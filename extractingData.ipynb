{
 "cells": [
  {
   "cell_type": "markdown",
   "id": "0a2980d9",
   "metadata": {},
   "source": [
    "Weer data"
   ]
  },
  {
   "cell_type": "code",
   "execution_count": 5,
   "id": "1dbea529",
   "metadata": {},
   "outputs": [],
   "source": [
    "import requests\n",
    "import csv\n",
    "import os\n",
    "from datetime import datetime, timedelta\n",
    "import pandas as pd"
   ]
  },
  {
   "cell_type": "code",
   "execution_count": 2,
   "id": "53bcc452",
   "metadata": {},
   "outputs": [],
   "source": [
    "url = \"https://archive-api.open-meteo.com/v1/archive\"\n",
    "params = {\n",
    "    \"latitude\": 51.05,\n",
    "    \"longitude\": 3.7167,\n",
    "    \"start_date\": \"2016-10-01\",\n",
    "    \"end_date\": \"2025-04-10\",\n",
    "    \"hourly\": \"temperature_2m,apparent_temperature,rain,snowfall,weather_code,cloud_cover,wind_speed_10m,sunshine_duration\",\n",
    "    \"timezone\": \"auto\"\n",
    "}"
   ]
  },
  {
   "cell_type": "code",
   "execution_count": 4,
   "id": "9bd6e973",
   "metadata": {},
   "outputs": [
    {
     "name": "stdout",
     "output_type": "stream",
     "text": [
      "Data weggeschreven: c:\\Users\\krist\\Documents\\Hogent_IT\\2de_jaar\\Machine_Learning\\ML_project_kijkcijfers\\.\\data csv\\weerdataraw.csv\n"
     ]
    }
   ],
   "source": [
    "response = requests.get(url, params=params)\n",
    "\n",
    "if response.status_code == 200:\n",
    "    data = response.json()\n",
    "    hourly_data = data.get(\"hourly\", {})\n",
    "    script_dir = os.getcwd()\n",
    "    csv_file_path = os.path.join(script_dir, \".\", \"data csv\", \"weerdataraw.csv\")\n",
    "    os.makedirs(os.path.dirname(csv_file_path), exist_ok=True)\n",
    "\n",
    "    #open csv\n",
    "    with open(csv_file_path, mode=\"w\", newline=\"\") as file:\n",
    "        writer = csv.writer(file)\n",
    "\n",
    "        #header csv\n",
    "        header = [\"timestamp\", \"temperature_2m\", \"apparent_temperature\", \"rain\", \"snowfall\", \"weather_code\", \"cloud_cover\", \"wind_speed_10m\", \"sunshine_duration\"]\n",
    "        writer.writerow(header)\n",
    "\n",
    "        #naar csv schrijven\n",
    "        for i in range(len(hourly_data.get(\"temperature_2m\", []))):\n",
    "            row = [\n",
    "                hourly_data.get(\"time\", [])[i],\n",
    "                hourly_data.get(\"temperature_2m\", [])[i],\n",
    "                hourly_data.get(\"apparent_temperature\", [])[i],\n",
    "                hourly_data.get(\"rain\", [])[i],\n",
    "                hourly_data.get(\"snowfall\", [])[i],\n",
    "                hourly_data.get(\"weather_code\", [])[i],\n",
    "                hourly_data.get(\"cloud_cover\", [])[i],\n",
    "                hourly_data.get(\"wind_speed_10m\", [])[i],\n",
    "                hourly_data.get(\"sunshine_duration\", [])[i]\n",
    "            ]\n",
    "            writer.writerow(row)\n",
    "\n",
    "    print(f\"Data weggeschreven: {csv_file_path}\")\n",
    "else:\n",
    "    print(f\"Failed status code: {response.status_code}\")"
   ]
  },
  {
   "cell_type": "markdown",
   "id": "140d9550",
   "metadata": {},
   "source": [
    "Kijkcijfer data"
   ]
  },
  {
   "cell_type": "code",
   "execution_count": 7,
   "id": "0acff582",
   "metadata": {},
   "outputs": [],
   "source": [
    "start_date = datetime(2016, 10, 1)\n",
    "end_date = datetime.today()\n",
    "\n",
    "script_dir = os.getcwd()\n",
    "output_file = os.path.join(script_dir, \"./data csv/kijkcijfersdataraw.csv\")\n",
    "\n",
    "os.makedirs(os.path.dirname(output_file), exist_ok=True)"
   ]
  },
  {
   "cell_type": "code",
   "execution_count": 8,
   "id": "0d0433dd",
   "metadata": {},
   "outputs": [
    {
     "name": "stdout",
     "output_type": "stream",
     "text": [
      "data opgehaald\n"
     ]
    }
   ],
   "source": [
    "\n",
    "with open(output_file, mode='w', newline='', encoding='utf-8-sig') as file:\n",
    "    fieldnames = [\n",
    "    'dateDiff', 'ranking', 'description', 'channel', \n",
    "    'startTime', 'rLength', 'rateInK', 'live'\n",
    "    ]\n",
    "    writer = csv.DictWriter(file, fieldnames=fieldnames)\n",
    "    writer.writeheader()\n",
    "\n",
    "    # Loop door elke dag\n",
    "    current_date = start_date\n",
    "    while current_date <= end_date:\n",
    "        datum = f\"{current_date.year}-{current_date.month}-{current_date.day}\"\n",
    "        url = f\"https://api.cim.be/api/cim_tv_public_results_daily_views?dateDiff={datum}&reportType=north\"\n",
    "            \n",
    "        try:\n",
    "            response = requests.get(url)\n",
    "            if response.status_code == 200:\n",
    "                data = response.json()\n",
    "                programma_lijst = data.get('hydra:member', [])\n",
    "                        \n",
    "                for programma in programma_lijst:\n",
    "                    try:\n",
    "                        writer.writerow({\n",
    "                        'dateDiff': programma.get('dateDiff'),\n",
    "                        'ranking': programma.get('ranking'),\n",
    "                        'description': programma.get('description'),\n",
    "                        'channel': programma.get('channel'),\n",
    "                        'startTime': programma.get('startTime'),\n",
    "                        'rLength': programma.get('rLength'),\n",
    "                        'rateInK': programma.get('rateInK'),\n",
    "                        'live': programma.get('live')\n",
    "                        })\n",
    "                                    \n",
    "                    except Exception as e:\n",
    "                        print(f\"error {datum}: {e}\")         \n",
    "            else:\n",
    "                print(f\"no data {datum}\")\n",
    "                        \n",
    "        except Exception as e:\n",
    "            print(f\"error {datum}: {e}\")\n",
    "            \n",
    "        current_date += timedelta(days=1)\n",
    "print(\"data opgehaald\")"
   ]
  }
 ],
 "metadata": {
  "kernelspec": {
   "display_name": ".venv",
   "language": "python",
   "name": "python3"
  },
  "language_info": {
   "codemirror_mode": {
    "name": "ipython",
    "version": 3
   },
   "file_extension": ".py",
   "mimetype": "text/x-python",
   "name": "python",
   "nbconvert_exporter": "python",
   "pygments_lexer": "ipython3",
   "version": "3.12.9"
  }
 },
 "nbformat": 4,
 "nbformat_minor": 5
}
