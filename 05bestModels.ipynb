{
 "cells": [
  {
   "cell_type": "markdown",
   "id": "542e8402",
   "metadata": {},
   "source": [
    "# Best models:\n",
    "\n",
    "## Model: ExtraTreesRegressor\n",
    "\n",
    "MAE:  51912.1192\n",
    "\n",
    "MAPE: 15.50%\n",
    "\n",
    "Tijd: 11m 29.4s\n",
    "\n",
    "## Model: HistGradientBoostingRegressor\n",
    "\n",
    "MAE:  52753.3521\n",
    "\n",
    "MAPE: 15.64%\n",
    "\n",
    "Tijd: 0m 11.3s\n",
    "\n",
    "## Model: XGBRegressor\n",
    "\n",
    "MAE:  53561.6539\n",
    "\n",
    "MAPE: 15.62%\n",
    "\n",
    "Tijd: 0m 4.2s\n",
    "\n",
    "## RandomForest er niet bij want 18m+ traintijd voor slechts 200 MAE verschil met XGB\n"
   ]
  }
 ],
 "metadata": {
  "language_info": {
   "name": "python"
  }
 },
 "nbformat": 4,
 "nbformat_minor": 5
}
